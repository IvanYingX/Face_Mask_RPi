{
 "metadata": {
  "language_info": {
   "codemirror_mode": {
    "name": "ipython",
    "version": 3
   },
   "file_extension": ".py",
   "mimetype": "text/x-python",
   "name": "python",
   "nbconvert_exporter": "python",
   "pygments_lexer": "ipython3",
   "version": "3.8.5-final"
  },
  "orig_nbformat": 2,
  "kernelspec": {
   "name": "python385jvsc74a57bd04c16d4709914fb96df173483f15d375ad59ae5b8d3e471a3f8edc161b856b714",
   "display_name": "Python 3.8.5 64-bit (conda)"
  },
  "metadata": {
   "interpreter": {
    "hash": "e6aa97b189a35e29c1529870d6fcb1f70dba8daac1478ee0bd56bd55187cdcb4"
   }
  }
 },
 "nbformat": 4,
 "nbformat_minor": 2,
 "cells": [
  {
   "cell_type": "code",
   "execution_count": 1,
   "metadata": {},
   "outputs": [],
   "source": [
    "import cv2\n",
    "import matplotlib.pyplot as plt\n",
    "%matplotlib inline"
   ]
  },
  {
   "cell_type": "code",
   "execution_count": 2,
   "metadata": {},
   "outputs": [],
   "source": [
    "import tensorflow.keras\n",
    "from PIL import Image, ImageOps\n",
    "import numpy as np\n",
    "\n",
    "# Disable scientific notation for clarity\n",
    "np.set_printoptions(suppress=True)\n"
   ]
  },
  {
   "cell_type": "code",
   "execution_count": 3,
   "metadata": {},
   "outputs": [
    {
     "output_type": "stream",
     "name": "stdout",
     "text": [
      "WARNING:tensorflow:No training configuration found in the save file, so the model was *not* compiled. Compile it manually.\n"
     ]
    }
   ],
   "source": [
    "model = tensorflow.keras.models.load_model('keras_model.h5')"
   ]
  },
  {
   "cell_type": "code",
   "execution_count": 4,
   "metadata": {},
   "outputs": [],
   "source": [
    "# data = np.ndarray(shape=(1, 224, 224, 3), dtype=np.float32)\n",
    "\n",
    "# # Replace this with the path to your image\n",
    "# image = Image.open('test_nomask.jpg')\n",
    "\n",
    "# #resize the image to a 224x224 with the same strategy as in TM2:\n",
    "# #resizing the image to be at least 224x224 and then cropping from the center\n",
    "# size = (224, 224)\n",
    "# image = ImageOps.fit(image, size, Image.ANTIALIAS)\n",
    "# #turn the image into a numpy array\n",
    "# image_array = np.asarray(image)\n",
    "\n",
    "# data = np.ndarray(shape=(1, 224, 224, 3), dtype=np.float32)\n",
    "\n",
    "# # Replace this with the path to your image\n",
    "# image = Image.open('test_nomask.jpg')\n",
    "\n",
    "# #resize the image to a 224x224 with the same strategy as in TM2:\n",
    "# #resizing the image to be at least 224x224 and then cropping from the center\n",
    "# size = (224, 224)\n",
    "# image = ImageOps.fit(image, size, Image.ANTIALIAS)\n",
    "# #turn the image into a numpy array\n",
    "# image_array = np.asarray(image)\n",
    "\n",
    "# # display the resized image\n",
    "# image.show()\n",
    "\n",
    "# # Normalize the image\n",
    "# normalized_image_array = (image_array.astype(np.float32) / 127.0) - 1\n",
    "\n",
    "# # Load the image into the array\n",
    "# data[0] = normalized_image_array\n",
    "\n",
    "# # run the inference\n",
    "# prediction = model.predict(data)\n",
    "# print(prediction)"
   ]
  },
  {
   "cell_type": "code",
   "execution_count": 11,
   "metadata": {},
   "outputs": [],
   "source": [
    "data = np.ndarray(shape=(1, 224, 224, 3), dtype=np.float32)\n",
    "size = (224, 224)\n",
    "\n",
    "font = cv2.FONT_HERSHEY_SIMPLEX\n",
    "bottomLeftCornerOfText = (10, 450)\n",
    "fontScale = 1\n",
    "fontColor = (255,255,255)\n",
    "lineType = 2\n",
    "\n",
    "def main():\n",
    "    cap = cv2.VideoCapture(0)\n",
    "    while cap.isOpened():\n",
    "        ret, frame = cap.read()\n",
    "        if not ret:\n",
    "            break\n",
    "\n",
    "        # Format the image into a PIL Image so its compatable with Edge TPU\n",
    "        cv2_im = frame\n",
    "        pil_im = Image.fromarray(cv2_im)\n",
    "\n",
    "        # Resize and flip image so its a square and matches training\n",
    "        image = ImageOps.fit(pil_im, size, Image.ANTIALIAS)\n",
    "        image_array = np.asarray(image)\n",
    "        normalized_image_array = (image_array.astype(np.float32) / 127.0) - 1\n",
    "        data[0] = normalized_image_array\n",
    "        # Classify and display image\n",
    "        prediction = model.predict(data)\n",
    "        cv2.putText(cv2_im,str(prediction[0][1]), \n",
    "            bottomLeftCornerOfText, \n",
    "            font, \n",
    "            fontScale,\n",
    "            fontColor,\n",
    "            lineType)\n",
    "        cv2.imshow('frame', cv2_im)\n",
    "        if cv2.waitKey(1) & 0xFF == ord('q'):\n",
    "            break\n",
    "\n",
    "    cap.release()\n",
    "    cv2.destroyAllWindows()"
   ]
  },
  {
   "cell_type": "code",
   "execution_count": 12,
   "metadata": {},
   "outputs": [],
   "source": [
    "main()"
   ]
  },
  {
   "cell_type": "code",
   "execution_count": null,
   "metadata": {},
   "outputs": [],
   "source": []
  }
 ]
}