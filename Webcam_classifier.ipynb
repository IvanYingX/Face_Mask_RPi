{
 "metadata": {
  "language_info": {
   "codemirror_mode": {
    "name": "ipython",
    "version": 3
   },
   "file_extension": ".py",
   "mimetype": "text/x-python",
   "name": "python",
   "nbconvert_exporter": "python",
   "pygments_lexer": "ipython3",
   "version": "3.8.5-final"
  },
  "orig_nbformat": 2,
  "kernelspec": {
   "name": "python385jvsc74a57bd04c16d4709914fb96df173483f15d375ad59ae5b8d3e471a3f8edc161b856b714",
   "display_name": "Python 3.8.5 64-bit (conda)"
  },
  "metadata": {
   "interpreter": {
    "hash": "e6aa97b189a35e29c1529870d6fcb1f70dba8daac1478ee0bd56bd55187cdcb4"
   }
  }
 },
 "nbformat": 4,
 "nbformat_minor": 2,
 "cells": [
  {
   "cell_type": "code",
   "execution_count": 1,
   "metadata": {},
   "outputs": [],
   "source": []
  },
  {
   "cell_type": "code",
   "execution_count": 31,
   "metadata": {},
   "outputs": [],
   "source": [
    "import cv2\n",
    "import tensorflow.keras\n",
    "from PIL import Image, ImageOps\n",
    "import numpy as np\n",
    "import re\n",
    "import time\n",
    "\n",
    "np.set_printoptions(suppress=True)\n"
   ]
  },
  {
   "cell_type": "code",
   "execution_count": 40,
   "metadata": {},
   "outputs": [
    {
     "output_type": "stream",
     "name": "stdout",
     "text": [
      "WARNING:tensorflow:No training configuration found in the save file, so the model was *not* compiled. Compile it manually.\n"
     ]
    }
   ],
   "source": [
    "model = tensorflow.keras.models.load_model('keras_model.h5')\n",
    "pattern = re.compile(r'\\s*(\\d+)(.+)')\n",
    "with open('labels.txt', 'r', encoding='utf-8') as labelFile:\n",
    "    lines = (pattern.match(line).groups() for line in labelFile.readlines())\n",
    "    encoder =  {int(num): text.strip() for num, text in lines}"
   ]
  },
  {
   "cell_type": "code",
   "execution_count": 63,
   "metadata": {},
   "outputs": [],
   "source": [
    "\n",
    "def pred_text(prediction):\n",
    "    perc = np.max(prediction[0])\n",
    "    perc = str(np.round(perc, 2))\n",
    "    return f'{encoder[np.argmax(prediction[0])]} : {perc} %'\n",
    "\n",
    "def main():\n",
    "    data = np.ndarray(shape=(1, 224, 224, 3), dtype=np.float32)\n",
    "    size = (224, 224)\n",
    "\n",
    "    font = cv2.FONT_HERSHEY_SIMPLEX\n",
    "    upperLeftCornerOfText = (10, 50)\n",
    "    bottomLeftCornerOfText = (10, 450)\n",
    "    fontScale = 1\n",
    "    fontColor = (0,100,0)\n",
    "    lineType = 2\n",
    "    prev_frame_time = 0\n",
    "    new_frame_time = 0\n",
    "    cap = cv2.VideoCapture(0)\n",
    "    while cap.isOpened():\n",
    "        ret, frame = cap.read()\n",
    "        if not ret:\n",
    "            break\n",
    "        cv2_im = frame.resize((224,224))\n",
    "        pil_im = Image.fromarray(cv2_im)\n",
    "\n",
    "        # Resize and flip image so its a square and matches training\n",
    "        image = ImageOps.fit(pil_im, size, Image.ANTIALIAS)\n",
    "        image_array = np.asarray(image)\n",
    "        normalized_image_array = (image_array.astype(np.float32) / 127.0) - 1\n",
    "        data[0] = normalized_image_array\n",
    "        # Classify and display image\n",
    "        prediction = model.predict(data)\n",
    "\n",
    "        new_frame_time = time.time()\n",
    "        fps = 1 / (new_frame_time-prev_frame_time)\n",
    "        prev_frame_time = new_frame_time\n",
    "        fps = str(int(fps))\n",
    "\n",
    "        cv2.putText(cv2_im, pred_text(prediction),\n",
    "            # encoder[np.argmax(prediction[0])] \\\n",
    "            #     + ' : ' +  \\\n",
    "            #     str(np.round(prediction[0][1], 2)), \n",
    "            bottomLeftCornerOfText, \n",
    "            font, \n",
    "            fontScale,\n",
    "            fontColor,\n",
    "            lineType)\n",
    "\n",
    "        cv2.putText(cv2_im, f'fps = {fps}', \n",
    "            upperLeftCornerOfText, \n",
    "            font, \n",
    "            fontScale,\n",
    "            fontColor,\n",
    "            lineType)\n",
    "        cv2.imshow('Mask Detector', cv2_im)\n",
    "        if cv2.waitKey(1) & 0xFF == ord('q'):\n",
    "            break\n",
    "\n",
    "    cap.release()\n",
    "    cv2.destroyAllWindows()"
   ]
  },
  {
   "cell_type": "code",
   "execution_count": 64,
   "metadata": {},
   "outputs": [],
   "source": [
    "main()"
   ]
  },
  {
   "cell_type": "code",
   "execution_count": null,
   "metadata": {},
   "outputs": [],
   "source": []
  }
 ]
}